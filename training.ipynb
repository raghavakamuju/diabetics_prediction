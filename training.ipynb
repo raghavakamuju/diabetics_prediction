{
 "cells": [
  {
   "cell_type": "code",
   "execution_count": null,
   "metadata": {},
   "outputs": [],
   "source": [
    "import numpy as np\n",
    "import pandas as pd\n",
    "import matplotlib.pyplot as plt\n"
   ]
  },
  {
   "cell_type": "code",
   "execution_count": null,
   "metadata": {},
   "outputs": [],
   "source": [
    "df=pd.read_csv('/content/diabetes.csv')\n",
    "df\n"
   ]
  },
  {
   "cell_type": "code",
   "execution_count": null,
   "metadata": {},
   "outputs": [],
   "source": [
    "df.info()\n",
    "x=df.iloc[:,0:8].values\n",
    "y=df.iloc[:,8].values\n",
    "df.isnull().sum()\n",
    "df.duplicated()\n",
    "\n",
    "from sklearn.model_selection import train_test_split\n",
    "x_train,x_test,y_train,y_test=train_test_split(x,y,test_size=0.2)\n"
   ]
  },
  {
   "cell_type": "code",
   "execution_count": null,
   "metadata": {},
   "outputs": [],
   "source": [
    "from sklearn.preprocessing import StandardScaler\n",
    "sc=StandardScaler()\n",
    "\n",
    "x_train=sc.fit_transform(x_train)\n",
    "x_test=sc.transform(x_test)\n",
    "\n",
    "from sklearn.linear_model  import LogisticRegression\n",
    "reg=LogisticRegression()\n",
    "reg.fit(x_train,y_train)\n",
    "reg.score(x_test,y_test)"
   ]
  },
  {
   "cell_type": "code",
   "execution_count": null,
   "metadata": {},
   "outputs": [],
   "source": [
    "from  sklearn.svm import SVC\n",
    "scv=SVC(C=0.125,kernel='linear')\n",
    "scv.fit(x_train,y_train)\n",
    "y_pred=scv.predict(x_test)\n",
    "from sklearn.metrics import confusion_matrix\n",
    "cm = confusion_matrix(y_pred,y_test)\n",
    "print(cm)\n",
    "scv.score(x_test,y_test)"
   ]
  },
  {
   "cell_type": "code",
   "execution_count": null,
   "metadata": {},
   "outputs": [],
   "source": [
    "import pickle\n",
    "with open('model_file.sav','wb') as f:\n",
    "  pickle.dump(dtc,f)\n",
    "with open('model_file.sav','rb') as f:\n",
    "   loaded_model=pickle.load(f)"
   ]
  },
  {
   "cell_type": "code",
   "execution_count": null,
   "metadata": {},
   "outputs": [],
   "source": [
    "import numpy as np\n",
    "\n",
    "# Corrected input data as a list\n",
    "input_data = [5, 166, 72, 19, 175, 25.8, 0.587, 51]\n",
    "input_array = np.array(input_data)\n",
    "input_array_reshaped = input_array.reshape(1, -1)\n",
    "\n",
    "prediction = loaded_model.predict(input_array_reshaped)\n",
    "\n",
    "if prediction[0] == 0:\n",
    "    print('The person is not diabetic.')\n",
    "else:\n",
    "    print('The person is diabetic.')\n"
   ]
  },
  {
   "cell_type": "code",
   "execution_count": null,
   "metadata": {},
   "outputs": [],
   "source": []
  },
  {
   "cell_type": "code",
   "execution_count": null,
   "metadata": {},
   "outputs": [],
   "source": []
  },
  {
   "cell_type": "code",
   "execution_count": null,
   "metadata": {},
   "outputs": [],
   "source": []
  },
  {
   "cell_type": "code",
   "execution_count": null,
   "metadata": {},
   "outputs": [],
   "source": []
  }
 ],
 "metadata": {
  "language_info": {
   "name": "python"
  },
  "orig_nbformat": 4
 },
 "nbformat": 4,
 "nbformat_minor": 2
}
